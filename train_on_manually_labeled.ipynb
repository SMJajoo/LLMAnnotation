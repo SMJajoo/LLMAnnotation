{
 "cells": [
  {
   "cell_type": "code",
   "execution_count": 1,
   "metadata": {},
   "outputs": [
    {
     "name": "stdout",
     "output_type": "stream",
     "text": [
      "Requirement already satisfied: nltk in c:\\users\\sanskruti jajoo\\appdata\\local\\programs\\python\\python311\\lib\\site-packages (3.9.1)\n",
      "Requirement already satisfied: scikit-learn in c:\\users\\sanskruti jajoo\\appdata\\local\\programs\\python\\python311\\lib\\site-packages (1.6.1)\n",
      "Requirement already satisfied: joblib in c:\\users\\sanskruti jajoo\\appdata\\local\\programs\\python\\python311\\lib\\site-packages (1.4.2)\n",
      "Requirement already satisfied: click in c:\\users\\sanskruti jajoo\\appdata\\local\\programs\\python\\python311\\lib\\site-packages (from nltk) (8.1.8)\n",
      "Requirement already satisfied: regex>=2021.8.3 in c:\\users\\sanskruti jajoo\\appdata\\local\\programs\\python\\python311\\lib\\site-packages (from nltk) (2024.11.6)\n",
      "Requirement already satisfied: tqdm in c:\\users\\sanskruti jajoo\\appdata\\local\\programs\\python\\python311\\lib\\site-packages (from nltk) (4.67.1)\n",
      "Requirement already satisfied: numpy>=1.19.5 in c:\\users\\sanskruti jajoo\\appdata\\local\\programs\\python\\python311\\lib\\site-packages (from scikit-learn) (1.26.4)\n",
      "Requirement already satisfied: scipy>=1.6.0 in c:\\users\\sanskruti jajoo\\appdata\\local\\programs\\python\\python311\\lib\\site-packages (from scikit-learn) (1.15.2)\n",
      "Requirement already satisfied: threadpoolctl>=3.1.0 in c:\\users\\sanskruti jajoo\\appdata\\local\\programs\\python\\python311\\lib\\site-packages (from scikit-learn) (3.5.0)\n",
      "Requirement already satisfied: colorama in c:\\users\\sanskruti jajoo\\appdata\\roaming\\python\\python311\\site-packages (from click->nltk) (0.4.6)\n"
     ]
    }
   ],
   "source": [
    "!pip install nltk scikit-learn joblib"
   ]
  },
  {
   "cell_type": "code",
   "execution_count": 4,
   "metadata": {},
   "outputs": [
    {
     "name": "stderr",
     "output_type": "stream",
     "text": [
      "[nltk_data] Downloading package stopwords to C:\\Users\\Sanskruti\n",
      "[nltk_data]     Jajoo\\AppData\\Roaming\\nltk_data...\n",
      "[nltk_data]   Package stopwords is already up-to-date!\n",
      "[nltk_data] Downloading package punkt to C:\\Users\\Sanskruti\n",
      "[nltk_data]     Jajoo\\AppData\\Roaming\\nltk_data...\n",
      "[nltk_data]   Package punkt is already up-to-date!\n"
     ]
    },
    {
     "name": "stdout",
     "output_type": "stream",
     "text": [
      "film producer person oversees film production either employed production company working independently producers plan coordinate various aspects film production selecting script coordinating writing directing editing arranging financing producer responsible finding selecting promising material development unless film based existing script producer hires screenwriter oversees scripts development activities culminate pitch led producer secure financial backing enables production begin succeeds project greenlit producer supervises preproduction principal photography postproduction stages filmmaking producer hires director film well key crew members whereas director makes creative decisions production producer typically manages logistics business operations though directors also produce films producer must ensure film delivered time within budget later stages release oversee marketing distribution film producers always supervise production case primary producer executive producer may hire delegate work associate producers assistant producers line producers unit production managers stage production process producers bring together people like film director cinematographer production designer unless film based original script producer must find appropriate screenwriter existing script considered flawed producer order new version decide hire script doctor producer also gives final approval hiring film director cast members staff cases producers also last word comes casting questions producer also approve locations studio hire final shooting script production schedule budget spending time money preproduction reduce budget waste delays production stage production producers job ensure film remains schedule budget end must remain constant contact directors key creative team members producers always personally supervise parts production instead delegate tasks needed example producers run company also deals film distribution also cast film crew often work different times places certain films even require second unit even shooting film complete producers still demand additional scenes filmed case negative test screening producers may even demand alternative film ending example audience reacted negatively rambos death test screening film first blood producers requested new ending filmed producers also oversee films sales marketing distribution rights often working thirdparty specialist firms different types producers roles within industry today include executive producer oversees producers specific project ensures entire project remains track also usually charge managing films finances business aspects television series executive producer often writer given credit creative capacity feature film movie executive producer often person directly funding project directly responsible bringing investors funding television becoming common split role two creative projects executive producer showrunner showrunner context senior creative working writing producing vision effectively producer overseeing arranging managing beginning every aspect production whereas executive producer focuses budgeting predicting views higher authorities wider company trying ground showrunners vision tangible limits coexecutive producer someone whose input considered valuable executive producer despite junior unofficial rolecitation needed line producer manages staff daytoday operations oversees physical aspect involved making film television program line producer credited produced certain cases supervising producer supervises creative process screenplay development often aids script rewrites also fulfill executive producers role overseeing producers within production process producer oversee arrange manage begin every aspect production typically involved every stage overall production process coproducer member team producers perform functions roles single producer would given project coordinating producer coordinates workrole multiple producers trying achieve shared result associate assistant producer helps producer production process sometimes involved coordinating others jobs creating peoples schedules hiring main talent segment producer produces one specific segments multisegment film television production field producer helps producer overseeing production outside studio specific film locations considered executive employees regard fair labor standards act united states producers represent management team production charged studios enforce provisions union contracts negotiated alliance motion picture television producers amptp belowtheline employees founded us trade association association motion picture producers amptp initially responsible negotiating labor contracts still mids took contract negotiation responsibilities previously controlled academy motion picture arts sciences today amptp negotiates various industry associations dealing union contracts including international alliance theatrical stage employees iatse directors guild america dga screen actors guild american federation television radio artists sagaftra amptp negotiated eighty industrywide union agreements behalf studios independent production companies since amptp responsible negotiating union agreements considered official contract negotiation representative everyone within film television industry individual producers responsible negotiating deals studios distributing films producers guild america offers guidance protect promote interests producers production team film television new media offering framework provide health insurance pension benefits assists establishing safe working conditions vetting validity screen credits december global unions filed report titled demanding dignity behind scenes attempt end long hours culture television film industry citing part abuses increased industry attempted recover lost time due covid pandemic unions supporting report make million television film arts workers worldwide many producers begin college university film school film schools many universities offer courses covering film production knowledge courses specially designed future film producers courses focus key topics like pitching script development script assessment shooting schedule design budgeting students also expect practical training postproduction training topproducing school one efficient ways student gain industry credibility education one way begin career film producer experience also usually required land job internships way gain experience school give students foundation build career many internships paid enables students earn money gaining handson skills industry professionals internships students network within film industry important way make necessary industry connections internship next step typically land junior position production assistant pay vary based producers role filming location united states salary start even doubling working los angeles average annual salary producer us listed per year estimated range examining producers los angeles metropolitan area average annual salary producers also agreement take percentage movies sales average workday film producers since tasks change day day producers work hours often irregular consist long days possibility working nights weekends film\n",
      "✅ Model trained and saved as text_classifier.pkl\n",
      "🔹 Predicted Choice: finance\n"
     ]
    }
   ],
   "source": [
    "import json\n",
    "import os\n",
    "import joblib\n",
    "import re\n",
    "import string\n",
    "import nltk\n",
    "from nltk.corpus import stopwords\n",
    "from nltk.tokenize import word_tokenize\n",
    "from sklearn.feature_extraction.text import TfidfVectorizer\n",
    "from sklearn.naive_bayes import MultinomialNB\n",
    "from sklearn.pipeline import make_pipeline\n",
    "\n",
    "# Download stopwords for preprocessing (only once)\n",
    "nltk.download(\"stopwords\")\n",
    "nltk.download(\"punkt\")\n",
    "\n",
    "# Load stopwords\n",
    "STOPWORDS = set(stopwords.words(\"english\"))\n",
    "\n",
    "# Step 1: Load JSON Data\n",
    "def load_json(json_file):\n",
    "    with open(json_file, \"r\", encoding=\"utf-8\") as file:\n",
    "        data = json.load(file)\n",
    "    return data\n",
    "\n",
    "# Step 2: Preprocess Text\n",
    "def preprocess_text(text):\n",
    "    text = text.lower()  # Convert to lowercase\n",
    "    text = re.sub(r\"\\d+\", \"\", text)  # Remove numbers\n",
    "    text = text.translate(str.maketrans(\"\", \"\", string.punctuation))  # Remove punctuation\n",
    "    tokens = word_tokenize(text)  # Tokenize\n",
    "    tokens = [word for word in tokens if word not in STOPWORDS]  # Remove stopwords\n",
    "    return \" \".join(tokens)  # Convert back to string\n",
    "\n",
    "# Step 3: Extract Choices & Text\n",
    "def extract_data(json_data):\n",
    "    texts = []\n",
    "    labels = []\n",
    "    \n",
    "    for item in json_data:\n",
    "        text = item[\"data\"].get(\"text\", \"\")\n",
    "        annotations = item.get(\"annotations\", [])\n",
    "\n",
    "        for annotation in annotations:\n",
    "            for result in annotation.get(\"result\", []):\n",
    "                choices = result[\"value\"].get(\"choices\", [])\n",
    "                if choices:\n",
    "                    texts.append(preprocess_text(text))  # Preprocess before training\n",
    "                    labels.append(choices[0])  # Assuming single-choice selection\n",
    "    print(texts[10],labels[10])\n",
    "    return texts, labels\n",
    "\n",
    "# Step 4: Train Model\n",
    "def train_model(texts, labels):\n",
    "    model = make_pipeline(TfidfVectorizer(), MultinomialNB())  # Text processing + ML model\n",
    "    model.fit(texts, labels)  # Train on extracted data\n",
    "    joblib.dump(model, \"text_classifier.pkl\")  # Save trained model\n",
    "    print(\"✅ Model trained and saved as text_classifier.pkl\")\n",
    "\n",
    "# Step 5: Predict for New Text File\n",
    "def predict_choice(text_file):\n",
    "    if not os.path.exists(\"text_classifier.pkl\"):\n",
    "        print(\"❌ Model not found. Train the model first.\")\n",
    "        return\n",
    "    \n",
    "    with open(text_file, \"r\", encoding=\"utf-8\") as file:\n",
    "        new_text = file.read()\n",
    "\n",
    "    model = joblib.load(\"text_classifier.pkl\")  # Load trained model\n",
    "    processed_text = preprocess_text(new_text)  # Preprocess before prediction\n",
    "    prediction = model.predict([processed_text])[0]\n",
    "    print(f\"🔹 Predicted Choice: {prediction}\")\n",
    "\n",
    "# ======= Execution Starts Here =======\n",
    "if __name__ == \"__main__\":\n",
    "    # 1. Load JSON from a file\n",
    "    json_data = load_json(\"annotations.json\")  # Replace with your actual JSON file\n",
    "\n",
    "    # 2. Extract text & choices\n",
    "    texts, labels = extract_data(json_data)\n",
    "\n",
    "    if texts and labels:\n",
    "        # 3. Train the model\n",
    "        train_model(texts, labels)\n",
    "\n",
    "        # 4. Predict choice for a new text file\n",
    "        predict_choice(\"new_text.txt\")  # Replace with the actual text file path\n",
    "    else:\n",
    "        print(\"❌ No valid data found in JSON.\")"
   ]
  }
 ],
 "metadata": {
  "kernelspec": {
   "display_name": "Python 3",
   "language": "python",
   "name": "python3"
  },
  "language_info": {
   "codemirror_mode": {
    "name": "ipython",
    "version": 3
   },
   "file_extension": ".py",
   "mimetype": "text/x-python",
   "name": "python",
   "nbconvert_exporter": "python",
   "pygments_lexer": "ipython3",
   "version": "3.11.9"
  }
 },
 "nbformat": 4,
 "nbformat_minor": 2
}
